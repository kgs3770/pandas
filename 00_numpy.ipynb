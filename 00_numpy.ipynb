{
 "cells": [
  {
   "cell_type": "code",
   "execution_count": 2,
   "id": "0bf8a558-619c-445e-bbf9-53df214d1856",
   "metadata": {},
   "outputs": [],
   "source": [
    "import numpy as np #넘파이를 설치 했고 넘파이를 np라고 부를거임\n",
    "\n",
    "my_list = list(range(1000000))\n",
    "my_array = np.arange(1000000)"
   ]
  },
  {
   "cell_type": "code",
   "execution_count": 4,
   "id": "33841a6a-a05e-4afa-91ba-da2aa97593a4",
   "metadata": {},
   "outputs": [
    {
     "name": "stdout",
     "output_type": "stream",
     "text": [
      "49.7 ms ± 1.27 ms per loop (mean ± std. dev. of 7 runs, 10 loops each)\n",
      "2.02 ms ± 77.4 μs per loop (mean ± std. dev. of 7 runs, 1,000 loops each)\n"
     ]
    }
   ],
   "source": [
    "%timeit my_list2 = [i *2 for i in my_list] #%timeit : 속도측정\n",
    "%timeit my_arry2 = my_array * 2 "
   ]
  },
  {
   "cell_type": "code",
   "execution_count": 5,
   "id": "531a759b-75fb-436f-a5ea-1720a3ba255f",
   "metadata": {},
   "outputs": [
    {
     "name": "stdout",
     "output_type": "stream",
     "text": [
      "[[   1.     1.2    3. ]\n",
      " [-123.   123.     0. ]]\n"
     ]
    }
   ],
   "source": [
    "a = [\n",
    "    [1, 1.2, 3],\n",
    "    [-123, 123, 0]\n",
    "] #2차원 함수에 소수 넣어서 모든 형태를 소수로 바꾸줌\n",
    "data = np.array(a) #np에 array함수 실행\n",
    "print(data)"
   ]
  },
  {
   "cell_type": "code",
   "execution_count": 8,
   "id": "49b5ba9a-9ab2-4b96-a740-1cffb9d975e6",
   "metadata": {},
   "outputs": [
    {
     "name": "stdout",
     "output_type": "stream",
     "text": [
      "[[   10.    12.    30.]\n",
      " [-1230.  1230.     0.]]\n",
      "[[   2.     2.4    6. ]\n",
      " [-246.   246.     0. ]]\n"
     ]
    }
   ],
   "source": [
    "#0차원 : 스칼라(scala), 1차원 : 벡터(vector), \n",
    "#2차원 : 행렬(matrix), 3차원 : 텐서(tenser)\n",
    "print(data * 10)\n",
    "print(data + data)"
   ]
  },
  {
   "cell_type": "code",
   "execution_count": 9,
   "id": "c70bf5a8-f4d4-49d6-8521-b45d38fdff49",
   "metadata": {},
   "outputs": [
    {
     "name": "stdout",
     "output_type": "stream",
     "text": [
      "(2, 3)\n",
      "float64\n"
     ]
    }
   ],
   "source": [
    "print(data.shape) #데이터의 모양을 찍어줘//덩어리 2개 안에 데이터 3개\n",
    "print(data.dtype) #안에 있는 데이터의 세부정보, float=소수, 64=64비트 사용"
   ]
  },
  {
   "cell_type": "markdown",
   "id": "1d57dcc2-dac3-404a-8870-fd542142026a",
   "metadata": {},
   "source": [
    "## ndarray 생성하기\n",
    "- n차원의 배열 혹은 행렬"
   ]
  },
  {
   "cell_type": "code",
   "execution_count": 11,
   "id": "12220c17-0e45-4c03-ad92-cf5d701abdb1",
   "metadata": {},
   "outputs": [
    {
     "name": "stdout",
     "output_type": "stream",
     "text": [
      "[1 2 3 4 5]\n",
      "<class 'numpy.ndarray'>\n"
     ]
    }
   ],
   "source": [
    "data1= [1, 2, 3, 4, 5]\n",
    "arr1 = np.array(data1)\n",
    "print(arr1)\n",
    "print(type(arr1))"
   ]
  },
  {
   "cell_type": "code",
   "execution_count": 18,
   "id": "df9692a1-2273-4025-bec8-865a3ddf0f14",
   "metadata": {},
   "outputs": [
    {
     "name": "stdout",
     "output_type": "stream",
     "text": [
      "[[1.1 2.2]\n",
      " [3.3 4.4]]\n",
      "<class 'numpy.ndarray'>\n"
     ]
    }
   ],
   "source": [
    "arr2 = np.array([[1.1, 2.2], [3.3, 4.4]])\n",
    "print(arr2)\n",
    "print(type(arr2))"
   ]
  },
  {
   "cell_type": "code",
   "execution_count": 19,
   "id": "f40b1874-13ae-44ed-912f-34600618b21f",
   "metadata": {},
   "outputs": [
    {
     "name": "stdout",
     "output_type": "stream",
     "text": [
      "1\n",
      "2\n"
     ]
    }
   ],
   "source": [
    "print(arr1.ndim) #ndim = 몇 차원인가요?\n",
    "print(arr2.ndim)"
   ]
  },
  {
   "cell_type": "code",
   "execution_count": 21,
   "id": "a74733e4-5141-42ad-b017-b91e106e9a90",
   "metadata": {},
   "outputs": [
    {
     "name": "stdout",
     "output_type": "stream",
     "text": [
      "(5,)\n",
      "(2, 2)\n"
     ]
    }
   ],
   "source": [
    "print(arr1.shape)\n",
    "print(arr2.shape)"
   ]
  },
  {
   "cell_type": "code",
   "execution_count": 26,
   "id": "600f0b51-c80e-450a-8189-e6534c2ba042",
   "metadata": {},
   "outputs": [
    {
     "name": "stdout",
     "output_type": "stream",
     "text": [
      "[0. 0. 0. 0. 0. 0. 0. 0. 0. 0.]\n",
      "[0, 0, 0, 0, 0, 0, 0, 0, 0, 0]\n",
      "[[0. 0. 0. 0. 0.]\n",
      " [0. 0. 0. 0. 0.]\n",
      " [0. 0. 0. 0. 0.]\n",
      " [0. 0. 0. 0. 0.]\n",
      " [0. 0. 0. 0. 0.]]\n",
      "[[[4.67296746e-307 1.69121096e-306]\n",
      "  [8.90067740e-308 1.42413555e-306]]\n",
      "\n",
      " [[1.78019082e-306 1.37959740e-306]\n",
      "  [6.23057349e-307 1.42419530e-306]]]\n"
     ]
    }
   ],
   "source": [
    "print(np.zeros(10))\n",
    "print([0] * 10)\n",
    "print(np.zeros((5, 5)))  #(5,5)형태의 0으로 가득찬 \n",
    "print(np.empty((2, 2, 2)))"
   ]
  },
  {
   "cell_type": "code",
   "execution_count": 27,
   "id": "b70060a3-4937-4771-8f7c-62c55b565691",
   "metadata": {},
   "outputs": [
    {
     "name": "stdout",
     "output_type": "stream",
     "text": [
      "[0 1 2 3 4 5 6 7 8 9]\n"
     ]
    }
   ],
   "source": [
    "print(np.arange(10)) #0-9까지 형태가 있는 어랜지"
   ]
  },
  {
   "cell_type": "markdown",
   "id": "b896f7d3-1a08-44ba-bbd3-804c01699ff3",
   "metadata": {},
   "source": [
    "## ndarray 자료형"
   ]
  },
  {
   "cell_type": "code",
   "execution_count": 30,
   "id": "3a773038-09c7-42a7-a38c-b36a94baa344",
   "metadata": {},
   "outputs": [
    {
     "name": "stdout",
     "output_type": "stream",
     "text": [
      "float64\n",
      "int32\n"
     ]
    }
   ],
   "source": [
    "arr1 = np.array([1, 2, 3], dtype=np.float64) #dtype는 데이터 타입 설정\n",
    "arr2 = np.array([1, 2, 3], dtype=np.int32)\n",
    "\n",
    "print(arr1.dtype)\n",
    "print(arr2.dtype)"
   ]
  },
  {
   "cell_type": "code",
   "execution_count": 33,
   "id": "af27fbc2-5f0d-4464-b061-1e3cb5e39021",
   "metadata": {},
   "outputs": [
    {
     "name": "stdout",
     "output_type": "stream",
     "text": [
      "int64\n",
      "[1. 2. 3.]\n",
      "float64\n"
     ]
    }
   ],
   "source": [
    " #생성 완료 후 형변환\n",
    "#int -> flo\n",
    "arr1 = np.array([1, 2, 3]) \n",
    "print(arr1.dtype)\n",
    "float_arr1 = arr1.astype(np.float64)\n",
    "print(float_arr1)\n",
    "print(float_arr1.dtype)"
   ]
  },
  {
   "cell_type": "code",
   "execution_count": 36,
   "id": "50df0862-bf54-4605-a9e4-027249f1a5a7",
   "metadata": {},
   "outputs": [
    {
     "name": "stdout",
     "output_type": "stream",
     "text": [
      "float64\n",
      "[1 2 3 9]\n",
      "int64\n"
     ]
    }
   ],
   "source": [
    "#flo -> int\n",
    "arr2 = np.array([1.1, 2.2, 3.3, 9.9])\n",
    "print(arr2.dtype)\n",
    "int_arr2 = arr2.astype(np.int64)\n",
    "print(int_arr2)\n",
    "print(int_arr2.dtype)"
   ]
  },
  {
   "cell_type": "markdown",
   "id": "049c232a-cf2b-4fe0-90b4-f15a510ced53",
   "metadata": {},
   "source": [
    "## 산술 연산"
   ]
  },
  {
   "cell_type": "code",
   "execution_count": 43,
   "id": "3f7b4ddf-d029-471a-bfde-18b1673cb737",
   "metadata": {},
   "outputs": [
    {
     "name": "stdout",
     "output_type": "stream",
     "text": [
      "[[1 2 3]\n",
      " [4 5 6]]\n",
      "[[ 1  4  9]\n",
      " [16 25 36]]\n",
      "[[ 2  4  6]\n",
      " [ 8 10 12]]\n",
      "[[1.         0.5        0.33333333]\n",
      " [0.25       0.2        0.16666667]]\n",
      "[[  1   8  27]\n",
      " [ 64 125 216]]\n"
     ]
    }
   ],
   "source": [
    "arr = np.array([[1, 2, 3], [4, 5, 6]])\n",
    "print(arr)\n",
    "print(arr * arr) #같은 위치에 있는 숫자끼리 곱함\n",
    "print(arr + arr)\n",
    "print(1 / arr)\n",
    "print(arr ** 3) #모든 숫자 세제곱"
   ]
  },
  {
   "cell_type": "code",
   "execution_count": 47,
   "id": "70d49e83-2b19-4a43-8fdc-69b63c7a4a58",
   "metadata": {},
   "outputs": [
    {
     "name": "stdout",
     "output_type": "stream",
     "text": [
      "[[1 2 3]\n",
      " [4 5 6]]\n",
      "[[3 2 1]\n",
      " [1 2 3]]\n",
      "[[False False  True]\n",
      " [ True  True  True]]\n",
      "[[False False  True]\n",
      " [False False False]]\n"
     ]
    }
   ],
   "source": [
    "#비교\n",
    "arr2 = np.array([[3, 2, 1], [1, 2, 3]])\n",
    "print(arr)\n",
    "print(arr2)\n",
    "print(arr > arr2) #같은 위치에 있는 값끼리 비교함\n",
    "print(arr == 3) #3이 있는 위치만 골라주셈"
   ]
  },
  {
   "cell_type": "markdown",
   "id": "0d88dccc-c23e-4645-92ae-145f2dc3474f",
   "metadata": {},
   "source": [
    "## 색인과 슬라이싱"
   ]
  },
  {
   "cell_type": "code",
   "execution_count": 49,
   "id": "455433a9-c2b5-43a2-bf79-e903f48bfae8",
   "metadata": {},
   "outputs": [
    {
     "name": "stdout",
     "output_type": "stream",
     "text": [
      "[0 1 2 3 4 5 6 7 8 9]\n"
     ]
    }
   ],
   "source": [
    "arr = np.arange(10)\n",
    "print(arr)"
   ]
  },
  {
   "cell_type": "code",
   "execution_count": 57,
   "id": "6e405191-003d-4ba0-8de5-b818fd331af8",
   "metadata": {},
   "outputs": [
    {
     "name": "stdout",
     "output_type": "stream",
     "text": [
      "7\n",
      "[10 10 10]\n"
     ]
    }
   ],
   "source": [
    "print(arr[7]) #[n]번째 인덱스 뽑아주삼\n",
    "print(arr[2:5]) # 2-5까지 데이터 뽑아주삼"
   ]
  },
  {
   "cell_type": "code",
   "execution_count": 55,
   "id": "8091b7ee-2acd-4ccd-91d2-1f4c966a0e5a",
   "metadata": {},
   "outputs": [
    {
     "name": "stdout",
     "output_type": "stream",
     "text": [
      "[ 0  1 10 10 10  5  6  7  8  9]\n"
     ]
    }
   ],
   "source": [
    "arr[2:5] = 10\n",
    "print(arr)"
   ]
  },
  {
   "cell_type": "code",
   "execution_count": 56,
   "id": "6aa30eb4-49e7-4805-9e4e-5997352e4743",
   "metadata": {},
   "outputs": [
    {
     "name": "stdout",
     "output_type": "stream",
     "text": [
      "[1, 2, 3, 4, 5]\n"
     ]
    }
   ],
   "source": [
    "py_list = [1, 2, 3, 4, 5]\n",
    "py_list[2:3].pop()\n",
    "print(py_list)"
   ]
  },
  {
   "cell_type": "code",
   "execution_count": 60,
   "id": "9576ccb7-23e6-4fb2-9f38-f6db922aaa6a",
   "metadata": {},
   "outputs": [
    {
     "name": "stdout",
     "output_type": "stream",
     "text": [
      "[[1 2 3]\n",
      " [4 5 6]]\n"
     ]
    }
   ],
   "source": [
    "arr = np.array([[1, 2, 3], [4, 5, 6]])\n",
    "print(arr)"
   ]
  },
  {
   "cell_type": "code",
   "execution_count": 63,
   "id": "62d0c54a-ebe9-4c15-adb1-0b112aa87988",
   "metadata": {},
   "outputs": [
    {
     "name": "stdout",
     "output_type": "stream",
     "text": [
      "5\n",
      "5\n"
     ]
    }
   ],
   "source": [
    "print(arr[1][1]) #2차원 데이터에 접근, 5에 접근\n",
    "print(arr[1, 1]) #위에꺼 이렇게 써도 됨"
   ]
  },
  {
   "cell_type": "code",
   "execution_count": 108,
   "id": "b3392ec9-354f-445c-8323-53da4f0c0035",
   "metadata": {},
   "outputs": [],
   "source": [
    "arr3d = np.array([\n",
    "    [[1, 2, 3], [4, 5, 6], [7, 8, 9]],\n",
    "    [[11, 12, 13], [14, 15, 16], [17, 18, 19]],\n",
    "    [[21, 22, 23], [24, 25, 26], [27, 28, 29]]\n",
    "])"
   ]
  },
  {
   "cell_type": "code",
   "execution_count": 113,
   "id": "9dea0064-654e-463d-8e0c-ee8c17290d59",
   "metadata": {},
   "outputs": [
    {
     "name": "stdout",
     "output_type": "stream",
     "text": [
      "22\n",
      "22\n"
     ]
    }
   ],
   "source": [
    "print(arr3d[2][0][1]) #3차원 데이터에 접근\n",
    "print(arr3d[2, 0, 1])"
   ]
  },
  {
   "cell_type": "code",
   "execution_count": 114,
   "id": "afcaf523-ebce-435f-9e64-6a9e07f47e96",
   "metadata": {},
   "outputs": [
    {
     "data": {
      "text/plain": [
       "array([[[1, 2, 3],\n",
       "        [4, 5, 6],\n",
       "        [7, 8, 9]]])"
      ]
     },
     "execution_count": 114,
     "metadata": {},
     "output_type": "execute_result"
    }
   ],
   "source": [
    "arr3d[:1] #0번째 데이터 부터 1번째 데이터 까지 슬라이싱"
   ]
  },
  {
   "cell_type": "code",
   "execution_count": 115,
   "id": "d1df2cd1-4640-4c9c-a0e6-cb285560a789",
   "metadata": {},
   "outputs": [
    {
     "data": {
      "text/plain": [
       "array([[[6],\n",
       "        [9]]])"
      ]
     },
     "execution_count": 115,
     "metadata": {},
     "output_type": "execute_result"
    }
   ],
   "source": [
    "arr3d[:1, 1:, 2:] #1이상 2미만, [0:1, 1:, 2:] 하면 차원 줄어듬"
   ]
  },
  {
   "cell_type": "code",
   "execution_count": 116,
   "id": "6208f393-37b0-400f-94e5-1c390faee51f",
   "metadata": {},
   "outputs": [
    {
     "name": "stdout",
     "output_type": "stream",
     "text": [
      "[[[   1    2    3]\n",
      "  [   4    5 9999]\n",
      "  [   7    8 9999]]\n",
      "\n",
      " [[  11   12   13]\n",
      "  [  14   15   16]\n",
      "  [  17   18   19]]\n",
      "\n",
      " [[  21   22   23]\n",
      "  [  24   25   26]\n",
      "  [  27   28   29]]]\n"
     ]
    }
   ],
   "source": [
    "arr3d[0, 1:, 2:] = 9999\n",
    "print(arr3d)"
   ]
  },
  {
   "cell_type": "markdown",
   "id": "c4749fae-5617-4ca9-b137-b4ed97eba44b",
   "metadata": {},
   "source": [
    "## 불리언 값으로 선택"
   ]
  },
  {
   "cell_type": "code",
   "execution_count": 70,
   "id": "1b68c3b2-085d-439b-88d3-e3f3ee4774af",
   "metadata": {},
   "outputs": [],
   "source": [
    "names = np.array(['hong', 'kim', 'hong', 'kim'])\n",
    "data = np.array([['math', 60], ['math', 90], ['eng', 70], ['eng', 50]])"
   ]
  },
  {
   "cell_type": "code",
   "execution_count": 71,
   "id": "5b6b9526-fe2f-4c25-8061-6b4f5da7fd2a",
   "metadata": {},
   "outputs": [
    {
     "data": {
      "text/plain": [
       "array([ True, False,  True, False])"
      ]
     },
     "execution_count": 71,
     "metadata": {},
     "output_type": "execute_result"
    }
   ],
   "source": [
    "#hong의 데이터만 고르고 싶음\n",
    "names == 'hong'"
   ]
  },
  {
   "cell_type": "code",
   "execution_count": 72,
   "id": "1a5f8b81-05b4-4fba-bbf2-dcb80ae70630",
   "metadata": {},
   "outputs": [
    {
     "data": {
      "text/plain": [
       "array([['math', '60'],\n",
       "       ['eng', '70']], dtype='<U21')"
      ]
     },
     "execution_count": 72,
     "metadata": {},
     "output_type": "execute_result"
    }
   ],
   "source": [
    "#데이터를 인덱스 접근 할 때  결과가 hong이냐\n",
    "#data[[True, False, True, False]] \n",
    "data[names == 'hong'] #특정 조건에 맞는 데이터를 고를 때"
   ]
  },
  {
   "cell_type": "code",
   "execution_count": 74,
   "id": "582eac21-450c-4728-b846-e46fb66e743b",
   "metadata": {},
   "outputs": [
    {
     "name": "stdout",
     "output_type": "stream",
     "text": [
      "['60' '70']\n",
      "[['math']\n",
      " ['eng']]\n"
     ]
    }
   ],
   "source": [
    "#특정 과목, 점수만 따로 보고 싶다\n",
    "print(data[names == 'hong', 1]) #데이터 접근\n",
    "print(data[names == 'hong', :1]) #슬라이싱 접근"
   ]
  },
  {
   "cell_type": "code",
   "execution_count": 79,
   "id": "4e1dd165-28e6-400c-ac58-995c385d3e48",
   "metadata": {},
   "outputs": [
    {
     "name": "stdout",
     "output_type": "stream",
     "text": [
      "[False  True False  True]\n",
      "[False  True False  True]\n"
     ]
    }
   ],
   "source": [
    "print(names != 'hong') #지금있는 데이터가 hong이 아닌가요?\n",
    "print(~(names == 'hong')) #계산결과를 먼저 만들고 역을 취해줌 = hong이 아닌 사람 골라주셈"
   ]
  },
  {
   "cell_type": "code",
   "execution_count": 81,
   "id": "86f5a4e7-5a04-4e05-8502-dffdb0eea67b",
   "metadata": {},
   "outputs": [
    {
     "data": {
      "text/plain": [
       "array([['math', '90'],\n",
       "       ['eng', '50']], dtype='<U21')"
      ]
     },
     "execution_count": 81,
     "metadata": {},
     "output_type": "execute_result"
    }
   ],
   "source": [
    "#결과를 comd에 저장\n",
    "cond = names == 'kim'\n",
    "data[cond]"
   ]
  },
  {
   "cell_type": "markdown",
   "id": "abbe50b6-fb17-4cad-9123-3a38acd4599c",
   "metadata": {},
   "source": [
    "## 팬시 색인(fancy indexing)\n",
    "- 특정행을 갖고올때"
   ]
  },
  {
   "cell_type": "code",
   "execution_count": 86,
   "id": "a0e4fb1a-6f4f-42c2-86a3-fff51178baa2",
   "metadata": {},
   "outputs": [
    {
     "name": "stdout",
     "output_type": "stream",
     "text": [
      "[[0. 0. 0. 0.]\n",
      " [1. 1. 1. 1.]\n",
      " [2. 2. 2. 2.]\n",
      " [3. 3. 3. 3.]\n",
      " [4. 4. 4. 4.]\n",
      " [5. 5. 5. 5.]\n",
      " [6. 6. 6. 6.]\n",
      " [7. 7. 7. 7.]]\n"
     ]
    }
   ],
   "source": [
    "arr = np.zeros((8, 4))\n",
    "for i in range(8):\n",
    "    arr[i] = i #i번째를 i로 바꿈\n",
    "print(arr)"
   ]
  },
  {
   "cell_type": "code",
   "execution_count": 90,
   "id": "72d732f5-5eec-4c3c-ae9e-3e35df4d4ec3",
   "metadata": {},
   "outputs": [
    {
     "data": {
      "text/plain": [
       "array([[4., 4., 4., 4.],\n",
       "       [3., 3., 3., 3.],\n",
       "       [0., 0., 0., 0.],\n",
       "       [5., 5., 5., 5.]])"
      ]
     },
     "execution_count": 90,
     "metadata": {},
     "output_type": "execute_result"
    }
   ],
   "source": [
    "arr[[4, 3, 0, 5]] #특정한 요소에 있는 데이터를 골라낼때"
   ]
  },
  {
   "cell_type": "code",
   "execution_count": 89,
   "id": "1093563b-aaac-4e42-9872-b1fb07ba9fac",
   "metadata": {},
   "outputs": [
    {
     "data": {
      "text/plain": [
       "array([[5., 5., 5., 5.],\n",
       "       [3., 3., 3., 3.],\n",
       "       [7., 7., 7., 7.]])"
      ]
     },
     "execution_count": 89,
     "metadata": {},
     "output_type": "execute_result"
    }
   ],
   "source": [
    "arr[[-3, -5, -1]]"
   ]
  },
  {
   "cell_type": "code",
   "execution_count": 95,
   "id": "1f0cddec-880d-4850-adf9-9987e8be8dad",
   "metadata": {},
   "outputs": [
    {
     "name": "stdout",
     "output_type": "stream",
     "text": [
      "[[ 0  1  2  3]\n",
      " [ 4  5  6  7]\n",
      " [ 8  9 10 11]\n",
      " [12 13 14 15]\n",
      " [16 17 18 19]\n",
      " [20 21 22 23]\n",
      " [24 25 26 27]\n",
      " [28 29 30 31]]\n"
     ]
    }
   ],
   "source": [
    "arr = np.arange(32).reshape(8, 4) #0부터 32까지 배열을 (8,4) 규격으로 만듬\n",
    "print(arr)"
   ]
  },
  {
   "cell_type": "code",
   "execution_count": 97,
   "id": "1936a0e0-084c-42a1-ad48-84ed45347064",
   "metadata": {},
   "outputs": [
    {
     "data": {
      "text/plain": [
       "array([ 6, 23])"
      ]
     },
     "execution_count": 97,
     "metadata": {},
     "output_type": "execute_result"
    }
   ],
   "source": [
    "arr[[1, 5], [2, 3]]"
   ]
  },
  {
   "cell_type": "code",
   "execution_count": 100,
   "id": "beec68a7-1dc5-4205-88db-7c85d34cf760",
   "metadata": {},
   "outputs": [
    {
     "data": {
      "text/plain": [
       "array([[ 6,  7],\n",
       "       [22, 23]])"
      ]
     },
     "execution_count": 100,
     "metadata": {},
     "output_type": "execute_result"
    }
   ],
   "source": [
    "arr[[1, 5]][:, [2, 3]]"
   ]
  },
  {
   "cell_type": "markdown",
   "id": "c92ddfc9-7c68-4339-8724-eee85cfbd3c9",
   "metadata": {},
   "source": [
    "## 배열 전치\n",
    "- 배열 축을 바꾸는거"
   ]
  },
  {
   "cell_type": "code",
   "execution_count": 102,
   "id": "86096771-30ca-429b-a311-8d8b79da974b",
   "metadata": {},
   "outputs": [
    {
     "name": "stdout",
     "output_type": "stream",
     "text": [
      "[[ 0  1  2  3  4]\n",
      " [ 5  6  7  8  9]\n",
      " [10 11 12 13 14]]\n"
     ]
    }
   ],
   "source": [
    "arr = np.arange(15).reshape(3, 5)\n",
    "print(arr)"
   ]
  },
  {
   "cell_type": "code",
   "execution_count": 104,
   "id": "048c4aee-c858-4626-9c64-8ac0764f9dd0",
   "metadata": {},
   "outputs": [
    {
     "name": "stdout",
     "output_type": "stream",
     "text": [
      "[[ 0  5 10]\n",
      " [ 1  6 11]\n",
      " [ 2  7 12]\n",
      " [ 3  8 13]\n",
      " [ 4  9 14]]\n"
     ]
    }
   ],
   "source": [
    "print(arr.T) #\\(0-14)을 축으로 숫자 배열 바꿈"
   ]
  },
  {
   "cell_type": "code",
   "execution_count": 107,
   "id": "01e0d13d-b49d-42e1-98cf-a26b7ebacedd",
   "metadata": {},
   "outputs": [
    {
     "name": "stdout",
     "output_type": "stream",
     "text": [
      "[[ 30  80 130]\n",
      " [ 80 255 430]\n",
      " [130 430 730]]\n",
      "[[ 30  80 130]\n",
      " [ 80 255 430]\n",
      " [130 430 730]]\n"
     ]
    }
   ],
   "source": [
    "#행열의 내적, 곱\n",
    "print(arr @ arr.T)\n",
    "print(np.dot(arr, arr.T))"
   ]
  },
  {
   "cell_type": "markdown",
   "id": "4ff7134d-b4ff-470d-8bb8-5c5422553cb9",
   "metadata": {},
   "source": [
    "## numpy 함수"
   ]
  },
  {
   "cell_type": "code",
   "execution_count": 121,
   "id": "6fa38290-720a-47c1-b30b-33eaaeb50fde",
   "metadata": {},
   "outputs": [
    {
     "name": "stdout",
     "output_type": "stream",
     "text": [
      "[[ 1.04417048  1.40564725  0.26188326]\n",
      " [ 0.40509125 -0.82387776 -0.9946003 ]\n",
      " [-2.36748517  1.20152376 -1.7519081 ]]\n"
     ]
    }
   ],
   "source": [
    "samples = np.random.standard_normal(size=(3, 3))\n",
    "print(samples)"
   ]
  },
  {
   "cell_type": "code",
   "execution_count": 125,
   "id": "eeda96d1-df96-4e1b-adc2-2a7b40d5c0f1",
   "metadata": {},
   "outputs": [
    {
     "name": "stdout",
     "output_type": "stream",
     "text": [
      "[[1.0218466  1.18559995 0.51174531]\n",
      " [0.63646779        nan        nan]\n",
      " [       nan 1.09614039        nan]]\n"
     ]
    },
    {
     "name": "stderr",
     "output_type": "stream",
     "text": [
      "C:\\Users\\1-02\\AppData\\Local\\Temp\\ipykernel_7284\\1188358759.py:1: RuntimeWarning: invalid value encountered in sqrt\n",
      "  arr1 = np.sqrt(samples) #arr1에 저장한 상태 //nan = 숫자가 아닙니다 = 결측치\n"
     ]
    }
   ],
   "source": [
    "arr1 = np.sqrt(samples) #arr1에 저장한 상태 //nan = 숫자가 아닙니다 = 결측치  \n",
    "print(arr1)"
   ]
  },
  {
   "cell_type": "code",
   "execution_count": 126,
   "id": "4ad97917-92e2-419f-9619-623097b3f648",
   "metadata": {},
   "outputs": [
    {
     "name": "stdout",
     "output_type": "stream",
     "text": [
      "[[1.04417048 1.40564725 0.26188326]\n",
      " [0.40509125 0.82387776 0.9946003 ]\n",
      " [2.36748517 1.20152376 1.7519081 ]]\n"
     ]
    }
   ],
   "source": [
    "arr2 = np.abs(samples) #abs = 절대값으로 바꿔줌\n",
    "print(arr2)"
   ]
  },
  {
   "cell_type": "code",
   "execution_count": 127,
   "id": "2e229721-3250-448d-b49c-8d3cd450cb08",
   "metadata": {},
   "outputs": [
    {
     "data": {
      "text/plain": [
       "array([[False, False, False],\n",
       "       [False,  True,  True],\n",
       "       [ True, False,  True]])"
      ]
     },
     "execution_count": 127,
     "metadata": {},
     "output_type": "execute_result"
    }
   ],
   "source": [
    "np.isnan(arr1)"
   ]
  },
  {
   "cell_type": "code",
   "execution_count": null,
   "id": "3b240da7-bdee-4b0f-b70a-f45e2f66686d",
   "metadata": {},
   "outputs": [],
   "source": []
  }
 ],
 "metadata": {
  "kernelspec": {
   "display_name": "Python 3 (ipykernel)",
   "language": "python",
   "name": "python3"
  },
  "language_info": {
   "codemirror_mode": {
    "name": "ipython",
    "version": 3
   },
   "file_extension": ".py",
   "mimetype": "text/x-python",
   "name": "python",
   "nbconvert_exporter": "python",
   "pygments_lexer": "ipython3",
   "version": "3.13.2"
  }
 },
 "nbformat": 4,
 "nbformat_minor": 5
}
