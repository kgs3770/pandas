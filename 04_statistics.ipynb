{
 "cells": [
  {
   "cell_type": "code",
   "execution_count": 2,
   "id": "422eac38-2969-40ff-8cd3-112281e32a94",
   "metadata": {},
   "outputs": [],
   "source": [
    "import pandas as pd\n",
    "import seaborn as sns"
   ]
  },
  {
   "cell_type": "code",
   "execution_count": 5,
   "id": "80e71ff3-4c76-40c7-89dc-2e4c5351bc4f",
   "metadata": {},
   "outputs": [
    {
     "data": {
      "text/html": [
       "<div>\n",
       "<style scoped>\n",
       "    .dataframe tbody tr th:only-of-type {\n",
       "        vertical-align: middle;\n",
       "    }\n",
       "\n",
       "    .dataframe tbody tr th {\n",
       "        vertical-align: top;\n",
       "    }\n",
       "\n",
       "    .dataframe thead th {\n",
       "        text-align: right;\n",
       "    }\n",
       "</style>\n",
       "<table border=\"1\" class=\"dataframe\">\n",
       "  <thead>\n",
       "    <tr style=\"text-align: right;\">\n",
       "      <th></th>\n",
       "      <th>survived</th>\n",
       "      <th>pclass</th>\n",
       "      <th>sex</th>\n",
       "      <th>age</th>\n",
       "      <th>sibsp</th>\n",
       "      <th>parch</th>\n",
       "      <th>fare</th>\n",
       "      <th>embarked</th>\n",
       "      <th>class</th>\n",
       "      <th>who</th>\n",
       "      <th>adult_male</th>\n",
       "      <th>deck</th>\n",
       "      <th>embark_town</th>\n",
       "      <th>alive</th>\n",
       "      <th>alone</th>\n",
       "    </tr>\n",
       "  </thead>\n",
       "  <tbody>\n",
       "    <tr>\n",
       "      <th>0</th>\n",
       "      <td>0</td>\n",
       "      <td>3</td>\n",
       "      <td>male</td>\n",
       "      <td>22.0</td>\n",
       "      <td>1</td>\n",
       "      <td>0</td>\n",
       "      <td>7.2500</td>\n",
       "      <td>S</td>\n",
       "      <td>Third</td>\n",
       "      <td>man</td>\n",
       "      <td>True</td>\n",
       "      <td>NaN</td>\n",
       "      <td>Southampton</td>\n",
       "      <td>no</td>\n",
       "      <td>False</td>\n",
       "    </tr>\n",
       "    <tr>\n",
       "      <th>1</th>\n",
       "      <td>1</td>\n",
       "      <td>1</td>\n",
       "      <td>female</td>\n",
       "      <td>38.0</td>\n",
       "      <td>1</td>\n",
       "      <td>0</td>\n",
       "      <td>71.2833</td>\n",
       "      <td>C</td>\n",
       "      <td>First</td>\n",
       "      <td>woman</td>\n",
       "      <td>False</td>\n",
       "      <td>C</td>\n",
       "      <td>Cherbourg</td>\n",
       "      <td>yes</td>\n",
       "      <td>False</td>\n",
       "    </tr>\n",
       "    <tr>\n",
       "      <th>2</th>\n",
       "      <td>1</td>\n",
       "      <td>3</td>\n",
       "      <td>female</td>\n",
       "      <td>26.0</td>\n",
       "      <td>0</td>\n",
       "      <td>0</td>\n",
       "      <td>7.9250</td>\n",
       "      <td>S</td>\n",
       "      <td>Third</td>\n",
       "      <td>woman</td>\n",
       "      <td>False</td>\n",
       "      <td>NaN</td>\n",
       "      <td>Southampton</td>\n",
       "      <td>yes</td>\n",
       "      <td>True</td>\n",
       "    </tr>\n",
       "    <tr>\n",
       "      <th>3</th>\n",
       "      <td>1</td>\n",
       "      <td>1</td>\n",
       "      <td>female</td>\n",
       "      <td>35.0</td>\n",
       "      <td>1</td>\n",
       "      <td>0</td>\n",
       "      <td>53.1000</td>\n",
       "      <td>S</td>\n",
       "      <td>First</td>\n",
       "      <td>woman</td>\n",
       "      <td>False</td>\n",
       "      <td>C</td>\n",
       "      <td>Southampton</td>\n",
       "      <td>yes</td>\n",
       "      <td>False</td>\n",
       "    </tr>\n",
       "    <tr>\n",
       "      <th>4</th>\n",
       "      <td>0</td>\n",
       "      <td>3</td>\n",
       "      <td>male</td>\n",
       "      <td>35.0</td>\n",
       "      <td>0</td>\n",
       "      <td>0</td>\n",
       "      <td>8.0500</td>\n",
       "      <td>S</td>\n",
       "      <td>Third</td>\n",
       "      <td>man</td>\n",
       "      <td>True</td>\n",
       "      <td>NaN</td>\n",
       "      <td>Southampton</td>\n",
       "      <td>no</td>\n",
       "      <td>True</td>\n",
       "    </tr>\n",
       "  </tbody>\n",
       "</table>\n",
       "</div>"
      ],
      "text/plain": [
       "   survived  pclass     sex   age  sibsp  parch     fare embarked  class  \\\n",
       "0         0       3    male  22.0      1      0   7.2500        S  Third   \n",
       "1         1       1  female  38.0      1      0  71.2833        C  First   \n",
       "2         1       3  female  26.0      0      0   7.9250        S  Third   \n",
       "3         1       1  female  35.0      1      0  53.1000        S  First   \n",
       "4         0       3    male  35.0      0      0   8.0500        S  Third   \n",
       "\n",
       "     who  adult_male deck  embark_town alive  alone  \n",
       "0    man        True  NaN  Southampton    no  False  \n",
       "1  woman       False    C    Cherbourg   yes  False  \n",
       "2  woman       False  NaN  Southampton   yes   True  \n",
       "3  woman       False    C  Southampton   yes  False  \n",
       "4    man        True  NaN  Southampton    no   True  "
      ]
     },
     "execution_count": 5,
     "metadata": {},
     "output_type": "execute_result"
    }
   ],
   "source": [
    "df = sns.load_dataset('titanic')\n",
    "df.head()"
   ]
  },
  {
   "cell_type": "markdown",
   "id": "00bcd8ff-5b3a-47dd-a664-c196a7047e81",
   "metadata": {},
   "source": [
    "# describe()"
   ]
  },
  {
   "cell_type": "code",
   "execution_count": 7,
   "id": "ee5b0a7d-8260-4fd8-a8fd-351ef0471e30",
   "metadata": {},
   "outputs": [
    {
     "data": {
      "text/html": [
       "<div>\n",
       "<style scoped>\n",
       "    .dataframe tbody tr th:only-of-type {\n",
       "        vertical-align: middle;\n",
       "    }\n",
       "\n",
       "    .dataframe tbody tr th {\n",
       "        vertical-align: top;\n",
       "    }\n",
       "\n",
       "    .dataframe thead th {\n",
       "        text-align: right;\n",
       "    }\n",
       "</style>\n",
       "<table border=\"1\" class=\"dataframe\">\n",
       "  <thead>\n",
       "    <tr style=\"text-align: right;\">\n",
       "      <th></th>\n",
       "      <th>survived</th>\n",
       "      <th>pclass</th>\n",
       "      <th>age</th>\n",
       "      <th>sibsp</th>\n",
       "      <th>parch</th>\n",
       "      <th>fare</th>\n",
       "    </tr>\n",
       "  </thead>\n",
       "  <tbody>\n",
       "    <tr>\n",
       "      <th>count</th>\n",
       "      <td>891.000000</td>\n",
       "      <td>891.000000</td>\n",
       "      <td>714.000000</td>\n",
       "      <td>891.000000</td>\n",
       "      <td>891.000000</td>\n",
       "      <td>891.000000</td>\n",
       "    </tr>\n",
       "    <tr>\n",
       "      <th>mean</th>\n",
       "      <td>0.383838</td>\n",
       "      <td>2.308642</td>\n",
       "      <td>29.699118</td>\n",
       "      <td>0.523008</td>\n",
       "      <td>0.381594</td>\n",
       "      <td>32.204208</td>\n",
       "    </tr>\n",
       "    <tr>\n",
       "      <th>std</th>\n",
       "      <td>0.486592</td>\n",
       "      <td>0.836071</td>\n",
       "      <td>14.526497</td>\n",
       "      <td>1.102743</td>\n",
       "      <td>0.806057</td>\n",
       "      <td>49.693429</td>\n",
       "    </tr>\n",
       "    <tr>\n",
       "      <th>min</th>\n",
       "      <td>0.000000</td>\n",
       "      <td>1.000000</td>\n",
       "      <td>0.420000</td>\n",
       "      <td>0.000000</td>\n",
       "      <td>0.000000</td>\n",
       "      <td>0.000000</td>\n",
       "    </tr>\n",
       "    <tr>\n",
       "      <th>25%</th>\n",
       "      <td>0.000000</td>\n",
       "      <td>2.000000</td>\n",
       "      <td>20.125000</td>\n",
       "      <td>0.000000</td>\n",
       "      <td>0.000000</td>\n",
       "      <td>7.910400</td>\n",
       "    </tr>\n",
       "    <tr>\n",
       "      <th>50%</th>\n",
       "      <td>0.000000</td>\n",
       "      <td>3.000000</td>\n",
       "      <td>28.000000</td>\n",
       "      <td>0.000000</td>\n",
       "      <td>0.000000</td>\n",
       "      <td>14.454200</td>\n",
       "    </tr>\n",
       "    <tr>\n",
       "      <th>75%</th>\n",
       "      <td>1.000000</td>\n",
       "      <td>3.000000</td>\n",
       "      <td>38.000000</td>\n",
       "      <td>1.000000</td>\n",
       "      <td>0.000000</td>\n",
       "      <td>31.000000</td>\n",
       "    </tr>\n",
       "    <tr>\n",
       "      <th>max</th>\n",
       "      <td>1.000000</td>\n",
       "      <td>3.000000</td>\n",
       "      <td>80.000000</td>\n",
       "      <td>8.000000</td>\n",
       "      <td>6.000000</td>\n",
       "      <td>512.329200</td>\n",
       "    </tr>\n",
       "  </tbody>\n",
       "</table>\n",
       "</div>"
      ],
      "text/plain": [
       "         survived      pclass         age       sibsp       parch        fare\n",
       "count  891.000000  891.000000  714.000000  891.000000  891.000000  891.000000\n",
       "mean     0.383838    2.308642   29.699118    0.523008    0.381594   32.204208\n",
       "std      0.486592    0.836071   14.526497    1.102743    0.806057   49.693429\n",
       "min      0.000000    1.000000    0.420000    0.000000    0.000000    0.000000\n",
       "25%      0.000000    2.000000   20.125000    0.000000    0.000000    7.910400\n",
       "50%      0.000000    3.000000   28.000000    0.000000    0.000000   14.454200\n",
       "75%      1.000000    3.000000   38.000000    1.000000    0.000000   31.000000\n",
       "max      1.000000    3.000000   80.000000    8.000000    6.000000  512.329200"
      ]
     },
     "execution_count": 7,
     "metadata": {},
     "output_type": "execute_result"
    }
   ],
   "source": [
    "df.describe()"
   ]
  },
  {
   "cell_type": "code",
   "execution_count": 9,
   "id": "431de597-7b71-40ad-844e-bc267304e5f8",
   "metadata": {},
   "outputs": [
    {
     "data": {
      "text/html": [
       "<div>\n",
       "<style scoped>\n",
       "    .dataframe tbody tr th:only-of-type {\n",
       "        vertical-align: middle;\n",
       "    }\n",
       "\n",
       "    .dataframe tbody tr th {\n",
       "        vertical-align: top;\n",
       "    }\n",
       "\n",
       "    .dataframe thead th {\n",
       "        text-align: right;\n",
       "    }\n",
       "</style>\n",
       "<table border=\"1\" class=\"dataframe\">\n",
       "  <thead>\n",
       "    <tr style=\"text-align: right;\">\n",
       "      <th></th>\n",
       "      <th>sex</th>\n",
       "      <th>embarked</th>\n",
       "      <th>who</th>\n",
       "      <th>embark_town</th>\n",
       "      <th>alive</th>\n",
       "    </tr>\n",
       "  </thead>\n",
       "  <tbody>\n",
       "    <tr>\n",
       "      <th>count</th>\n",
       "      <td>891</td>\n",
       "      <td>889</td>\n",
       "      <td>891</td>\n",
       "      <td>889</td>\n",
       "      <td>891</td>\n",
       "    </tr>\n",
       "    <tr>\n",
       "      <th>unique</th>\n",
       "      <td>2</td>\n",
       "      <td>3</td>\n",
       "      <td>3</td>\n",
       "      <td>3</td>\n",
       "      <td>2</td>\n",
       "    </tr>\n",
       "    <tr>\n",
       "      <th>top</th>\n",
       "      <td>male</td>\n",
       "      <td>S</td>\n",
       "      <td>man</td>\n",
       "      <td>Southampton</td>\n",
       "      <td>no</td>\n",
       "    </tr>\n",
       "    <tr>\n",
       "      <th>freq</th>\n",
       "      <td>577</td>\n",
       "      <td>644</td>\n",
       "      <td>537</td>\n",
       "      <td>644</td>\n",
       "      <td>549</td>\n",
       "    </tr>\n",
       "  </tbody>\n",
       "</table>\n",
       "</div>"
      ],
      "text/plain": [
       "         sex embarked  who  embark_town alive\n",
       "count    891      889  891          889   891\n",
       "unique     2        3    3            3     2\n",
       "top     male        S  man  Southampton    no\n",
       "freq     577      644  537          644   549"
      ]
     },
     "execution_count": 9,
     "metadata": {},
     "output_type": "execute_result"
    }
   ],
   "source": [
    "df.describe(include='object') #오브젝트를 넣어서 값을 출력해줘"
   ]
  },
  {
   "cell_type": "markdown",
   "id": "569eb3df-87f4-41f3-8add-d14ee06ced8d",
   "metadata": {},
   "source": [
    "### count()"
   ]
  },
  {
   "cell_type": "code",
   "execution_count": 11,
   "id": "b2861eb8-ea83-4fb0-bc58-a25050592e7d",
   "metadata": {},
   "outputs": [
    {
     "data": {
      "text/plain": [
       "survived       891\n",
       "pclass         891\n",
       "sex            891\n",
       "age            714\n",
       "sibsp          891\n",
       "parch          891\n",
       "fare           891\n",
       "embarked       889\n",
       "class          891\n",
       "who            891\n",
       "adult_male     891\n",
       "deck           203\n",
       "embark_town    889\n",
       "alive          891\n",
       "alone          891\n",
       "dtype: int64"
      ]
     },
     "execution_count": 11,
     "metadata": {},
     "output_type": "execute_result"
    }
   ],
   "source": [
    "df.count()"
   ]
  },
  {
   "cell_type": "code",
   "execution_count": 12,
   "id": "2012edeb-f32e-453b-9a89-7910a3a2d4fc",
   "metadata": {},
   "outputs": [
    {
     "data": {
      "text/plain": [
       "np.int64(714)"
      ]
     },
     "execution_count": 12,
     "metadata": {},
     "output_type": "execute_result"
    }
   ],
   "source": [
    "df['age'].count()"
   ]
  },
  {
   "cell_type": "markdown",
   "id": "093e45ac-c9f2-4ac8-b9f1-a1fe7a12041c",
   "metadata": {},
   "source": [
    "### mean()"
   ]
  },
  {
   "cell_type": "code",
   "execution_count": 16,
   "id": "ac794e09-e210-47c1-8d0c-18672efb097c",
   "metadata": {},
   "outputs": [
    {
     "data": {
      "text/plain": [
       "np.float64(29.69911764705882)"
      ]
     },
     "execution_count": 16,
     "metadata": {},
     "output_type": "execute_result"
    }
   ],
   "source": [
    "df['age'].mean() #나이 평균 산출"
   ]
  },
  {
   "cell_type": "code",
   "execution_count": 15,
   "id": "bdde9d4c-2c1c-4cd8-900a-1d1c2f67929a",
   "metadata": {},
   "outputs": [
    {
     "data": {
      "text/plain": [
       "survived       0.383838\n",
       "pclass         2.308642\n",
       "age           29.699118\n",
       "sibsp          0.523008\n",
       "parch          0.381594\n",
       "fare          32.204208\n",
       "adult_male     0.602694\n",
       "alone          0.602694\n",
       "dtype: float64"
      ]
     },
     "execution_count": 15,
     "metadata": {},
     "output_type": "execute_result"
    }
   ],
   "source": [
    "df.mean(numeric_only=True) #데이터 평균 산출"
   ]
  },
  {
   "cell_type": "code",
   "execution_count": 17,
   "id": "381c4595-502b-4043-8ec8-3f692cfed96a",
   "metadata": {},
   "outputs": [
    {
     "data": {
      "text/plain": [
       "np.float64(24.864181750465548)"
      ]
     },
     "execution_count": 17,
     "metadata": {},
     "output_type": "execute_result"
    }
   ],
   "source": [
    "#성인 남성 요금 평균\n",
    "cond = df['adult_male'] == True \n",
    "df.loc[cond, 'fare'].mean()"
   ]
  },
  {
   "cell_type": "code",
   "execution_count": 21,
   "id": "759668a8-841f-4166-b2f7-512d82b38d38",
   "metadata": {},
   "outputs": [
    {
     "data": {
      "text/plain": [
       "np.float64(44.095238095238095)"
      ]
     },
     "execution_count": 21,
     "metadata": {},
     "output_type": "execute_result"
    }
   ],
   "source": [
    "# fare 30 ~ 40 지불 승객 & 1등석 => 나이 평균\n",
    "cond1 = df['fare'] >= 30 \n",
    "cond2 = df['fare'] <= 40\n",
    "\n",
    "cond3 = df['pclass'] == 1\n",
    "\n",
    "df.loc[cond1 & cond2 & cond3, 'age'].mean() #'age'].mean() = 위 조건 사람들의 나이 평균"
   ]
  },
  {
   "cell_type": "markdown",
   "id": "644a8daa-229f-4b7b-998f-701a0781ab8d",
   "metadata": {},
   "source": [
    "## median()"
   ]
  },
  {
   "cell_type": "code",
   "execution_count": 27,
   "id": "e6de8ea3-2c3e-4fed-bd73-221bf4d6e593",
   "metadata": {},
   "outputs": [
    {
     "data": {
      "text/plain": [
       "np.float64(187.33333333333334)"
      ]
     },
     "execution_count": 27,
     "metadata": {},
     "output_type": "execute_result"
    }
   ],
   "source": [
    "numbers = [1, 2, 10, 11, 100, 1000]\n",
    "pd.Series(numbers).mean()"
   ]
  },
  {
   "cell_type": "code",
   "execution_count": 29,
   "id": "9da4acfa-43ba-4608-adf9-eb1998226c1b",
   "metadata": {},
   "outputs": [
    {
     "data": {
      "text/plain": [
       "np.float64(10.5)"
      ]
     },
     "execution_count": 29,
     "metadata": {},
     "output_type": "execute_result"
    }
   ],
   "source": [
    "pd.Series(numbers).median() #중앙값에 접근"
   ]
  },
  {
   "cell_type": "code",
   "execution_count": 30,
   "id": "6ca80b07-a554-49bd-a447-1f8b40d324fa",
   "metadata": {},
   "outputs": [
    {
     "name": "stdout",
     "output_type": "stream",
     "text": [
      "29.69911764705882 28.0\n"
     ]
    }
   ],
   "source": [
    "mean_value = df['age'].mean()\n",
    "median_value = df['age']. median()\n",
    "print(mean_value, median_value)"
   ]
  },
  {
   "cell_type": "markdown",
   "id": "59bfe341-cc20-475d-94cc-4582ddc3ea67",
   "metadata": {},
   "source": [
    "## sum()\n",
    "- 합산"
   ]
  },
  {
   "cell_type": "code",
   "execution_count": 32,
   "id": "5c9ae4f4-7d6d-410a-94c4-0cbedf134c80",
   "metadata": {},
   "outputs": [
    {
     "data": {
      "text/plain": [
       "survived        342.0000\n",
       "pclass         2057.0000\n",
       "age           21205.1700\n",
       "sibsp           466.0000\n",
       "parch           340.0000\n",
       "fare          28693.9493\n",
       "adult_male      537.0000\n",
       "alone           537.0000\n",
       "dtype: float64"
      ]
     },
     "execution_count": 32,
     "metadata": {},
     "output_type": "execute_result"
    }
   ],
   "source": [
    "df.sum(numeric_only=True)"
   ]
  },
  {
   "cell_type": "code",
   "execution_count": 34,
   "id": "1908ae50-2fed-4ec9-ac23-f3372ff31f0e",
   "metadata": {},
   "outputs": [
    {
     "data": {
      "text/plain": [
       "np.float64(28693.9493)"
      ]
     },
     "execution_count": 34,
     "metadata": {},
     "output_type": "execute_result"
    }
   ],
   "source": [
    "df['fare'].sum() #요금 합산"
   ]
  },
  {
   "cell_type": "code",
   "execution_count": 36,
   "id": "b8fd53a1-e415-4101-b323-d6798fd51e83",
   "metadata": {},
   "outputs": [
    {
     "data": {
      "text/plain": [
       "0          7.2500\n",
       "1         78.5333\n",
       "2         86.4583\n",
       "3        139.5583\n",
       "4        147.6083\n",
       "          ...    \n",
       "886    28602.7493\n",
       "887    28632.7493\n",
       "888    28656.1993\n",
       "889    28686.1993\n",
       "890    28693.9493\n",
       "Name: fare, Length: 891, dtype: float64"
      ]
     },
     "execution_count": 36,
     "metadata": {},
     "output_type": "execute_result"
    }
   ],
   "source": [
    "df['fare'].cumsum() #누적합의 결과"
   ]
  },
  {
   "cell_type": "code",
   "execution_count": 38,
   "id": "4262f526-0c10-4dab-9671-4e946403ca1e",
   "metadata": {},
   "outputs": [
    {
     "data": {
      "text/plain": [
       "0            22.0\n",
       "1           836.0\n",
       "2         21736.0\n",
       "3        760760.0\n",
       "4      26626600.0\n",
       "          ...    \n",
       "886           inf\n",
       "887           inf\n",
       "888           NaN\n",
       "889           inf\n",
       "890           inf\n",
       "Name: age, Length: 891, dtype: float64"
      ]
     },
     "execution_count": 38,
     "metadata": {},
     "output_type": "execute_result"
    }
   ],
   "source": [
    "df['age'].cumprod() #누적곱"
   ]
  },
  {
   "cell_type": "markdown",
   "id": "01ad4567-97af-4720-a39c-16603a4d6f82",
   "metadata": {},
   "source": [
    "## var() 분산"
   ]
  },
  {
   "cell_type": "code",
   "execution_count": 45,
   "id": "97f07141-9d89-4d21-86df-74dc01377bbe",
   "metadata": {},
   "outputs": [
    {
     "name": "stdout",
     "output_type": "stream",
     "text": [
      "2469.436845743116\n"
     ]
    }
   ],
   "source": [
    "fare_mean = df['fare'].mean()\n",
    "#fare_mean\n",
    "\n",
    "total = ((df['fare'] - fare_mean) ** 2).sum() #원본 데이터에서 평균을 뺀 후 제곱 후 sum\n",
    "total_count = df['fare'].count() - 1\n",
    "\n",
    "my_var = total / total_count\n",
    "print(my_var)"
   ]
  },
  {
   "cell_type": "code",
   "execution_count": 46,
   "id": "fb66cb24-d242-4072-9cf9-b301f788e5bb",
   "metadata": {},
   "outputs": [
    {
     "data": {
      "text/plain": [
       "np.float64(2466.665311685043)"
      ]
     },
     "execution_count": 46,
     "metadata": {},
     "output_type": "execute_result"
    }
   ],
   "source": [
    "df['fare'].var(ddof=0)"
   ]
  },
  {
   "cell_type": "markdown",
   "id": "f6347a80-6d6a-4cbb-b59c-690e1e07eea5",
   "metadata": {},
   "source": [
    "### std()\n",
    "- 표준편차"
   ]
  },
  {
   "cell_type": "code",
   "execution_count": 48,
   "id": "164235d1-ad90-4615-8786-42a861da3ad5",
   "metadata": {},
   "outputs": [
    {
     "data": {
      "text/plain": [
       "np.float64(49.6934285971809)"
      ]
     },
     "execution_count": 48,
     "metadata": {},
     "output_type": "execute_result"
    }
   ],
   "source": [
    "import numpy as np\n",
    "np.sqrt(df['fare'].var())"
   ]
  },
  {
   "cell_type": "code",
   "execution_count": 49,
   "id": "fb3e5f3b-ea3b-4af8-a907-2bcf09a0dc80",
   "metadata": {},
   "outputs": [
    {
     "data": {
      "text/plain": [
       "np.float64(49.6934285971809)"
      ]
     },
     "execution_count": 49,
     "metadata": {},
     "output_type": "execute_result"
    }
   ],
   "source": [
    "df['fare'].std()"
   ]
  },
  {
   "cell_type": "code",
   "execution_count": 50,
   "id": "dfd2c5fe-7cef-428a-895b-b94aaa9e6258",
   "metadata": {},
   "outputs": [],
   "source": [
    "## min(), max()"
   ]
  },
  {
   "cell_type": "code",
   "execution_count": 53,
   "id": "7b1300c0-f045-4d81-9760-e2a770d72e0d",
   "metadata": {},
   "outputs": [
    {
     "data": {
      "text/plain": [
       "np.float64(0.42)"
      ]
     },
     "execution_count": 53,
     "metadata": {},
     "output_type": "execute_result"
    }
   ],
   "source": [
    "df['age'].min() #데이터가 가장 작은"
   ]
  },
  {
   "cell_type": "code",
   "execution_count": 54,
   "id": "7213491e-1eb8-43aa-b2e3-6d4a8c00e6b9",
   "metadata": {},
   "outputs": [
    {
     "data": {
      "text/plain": [
       "np.float64(80.0)"
      ]
     },
     "execution_count": 54,
     "metadata": {},
     "output_type": "execute_result"
    }
   ],
   "source": [
    "df['age'].max() #데이터가 가장 큰"
   ]
  },
  {
   "cell_type": "markdown",
   "id": "2cf1ab6a-10aa-4348-a523-cb29d7b49c65",
   "metadata": {},
   "source": [
    "## agg() (regation)"
   ]
  },
  {
   "cell_type": "code",
   "execution_count": 58,
   "id": "178976cd-df8f-4596-b111-d6a19836a6e9",
   "metadata": {},
   "outputs": [
    {
     "data": {
      "text/plain": [
       "max       80.000000\n",
       "min        0.420000\n",
       "count    714.000000\n",
       "mean      29.699118\n",
       "Name: age, dtype: float64"
      ]
     },
     "execution_count": 58,
     "metadata": {},
     "output_type": "execute_result"
    }
   ],
   "source": [
    "df['age'].agg(['max', 'min', 'count', 'mean']) "
   ]
  },
  {
   "cell_type": "code",
   "execution_count": 60,
   "id": "ac875c76-4a74-4a85-95ce-a8593a3edd09",
   "metadata": {},
   "outputs": [
    {
     "data": {
      "text/html": [
       "<div>\n",
       "<style scoped>\n",
       "    .dataframe tbody tr th:only-of-type {\n",
       "        vertical-align: middle;\n",
       "    }\n",
       "\n",
       "    .dataframe tbody tr th {\n",
       "        vertical-align: top;\n",
       "    }\n",
       "\n",
       "    .dataframe thead th {\n",
       "        text-align: right;\n",
       "    }\n",
       "</style>\n",
       "<table border=\"1\" class=\"dataframe\">\n",
       "  <thead>\n",
       "    <tr style=\"text-align: right;\">\n",
       "      <th></th>\n",
       "      <th>age</th>\n",
       "      <th>fare</th>\n",
       "    </tr>\n",
       "  </thead>\n",
       "  <tbody>\n",
       "    <tr>\n",
       "      <th>min</th>\n",
       "      <td>0.42</td>\n",
       "      <td>0.0000</td>\n",
       "    </tr>\n",
       "    <tr>\n",
       "      <th>max</th>\n",
       "      <td>80.00</td>\n",
       "      <td>512.3292</td>\n",
       "    </tr>\n",
       "  </tbody>\n",
       "</table>\n",
       "</div>"
      ],
      "text/plain": [
       "       age      fare\n",
       "min   0.42    0.0000\n",
       "max  80.00  512.3292"
      ]
     },
     "execution_count": 60,
     "metadata": {},
     "output_type": "execute_result"
    }
   ],
   "source": [
    "df[['age', 'fare']].agg(['min', 'max']) #여러가지 통계를 같이 볼 때"
   ]
  },
  {
   "cell_type": "markdown",
   "id": "e88c11a3-53d8-4bc7-a85f-92321a77a67d",
   "metadata": {},
   "source": [
    "## quantile()"
   ]
  },
  {
   "cell_type": "code",
   "execution_count": 63,
   "id": "2e75ab3e-2b11-42f5-ac74-f1797131277a",
   "metadata": {},
   "outputs": [
    {
     "data": {
      "text/plain": [
       "np.float64(14.0)"
      ]
     },
     "execution_count": 63,
     "metadata": {},
     "output_type": "execute_result"
    }
   ],
   "source": [
    "df['age'].quantile(0.1) #나이 기준으로 하위 10%를 찾음"
   ]
  },
  {
   "cell_type": "code",
   "execution_count": 64,
   "id": "4680e463-d7c2-4fc3-8df0-da63d4e69bf5",
   "metadata": {},
   "outputs": [
    {
     "data": {
      "text/plain": [
       "np.float64(41.0)"
      ]
     },
     "execution_count": 64,
     "metadata": {},
     "output_type": "execute_result"
    }
   ],
   "source": [
    "df['age'].quantile(0.8) #나이 기준으로 상위 20%를 찾음"
   ]
  },
  {
   "cell_type": "code",
   "execution_count": 65,
   "id": "97bc7544-ee3e-4cd8-9e57-2501ef5801dd",
   "metadata": {},
   "outputs": [
    {
     "data": {
      "text/plain": [
       "np.float64(28.0)"
      ]
     },
     "execution_count": 65,
     "metadata": {},
     "output_type": "execute_result"
    }
   ],
   "source": [
    "df['age'].median()"
   ]
  },
  {
   "cell_type": "code",
   "execution_count": 66,
   "id": "fdd704c0-c85c-4c1f-9a94-1ee02673cf1f",
   "metadata": {},
   "outputs": [
    {
     "data": {
      "text/plain": [
       "np.float64(28.0)"
      ]
     },
     "execution_count": 66,
     "metadata": {},
     "output_type": "execute_result"
    }
   ],
   "source": [
    "df['age'].quantile(0.5)"
   ]
  },
  {
   "cell_type": "markdown",
   "id": "e0365363-a1ec-4400-b01b-ff8483943262",
   "metadata": {},
   "source": [
    "## unique()\n",
    "- 고유한 값을 확인 할 때\n",
    "- 글자 데이터"
   ]
  },
  {
   "cell_type": "code",
   "execution_count": 69,
   "id": "2107db0a-2dea-49e3-8368-52829cd8b87c",
   "metadata": {},
   "outputs": [
    {
     "data": {
      "text/plain": [
       "array(['man', 'woman', 'child'], dtype=object)"
      ]
     },
     "execution_count": 69,
     "metadata": {},
     "output_type": "execute_result"
    }
   ],
   "source": [
    "df['who'].unique() #고유값 출력"
   ]
  },
  {
   "cell_type": "code",
   "execution_count": 71,
   "id": "0e94bb61-21e7-4f2e-b5f0-bcf42d0bd266",
   "metadata": {},
   "outputs": [
    {
     "data": {
      "text/plain": [
       "3"
      ]
     },
     "execution_count": 71,
     "metadata": {},
     "output_type": "execute_result"
    }
   ],
   "source": [
    "df['who'].nunique() #몇개가 유니크 값인지 출력"
   ]
  },
  {
   "cell_type": "markdown",
   "id": "615eeb07-da77-406b-9d6b-207f5f3ed619",
   "metadata": {},
   "source": [
    "## mode()\n",
    "- 최빈값"
   ]
  },
  {
   "cell_type": "code",
   "execution_count": 73,
   "id": "908f5908-54fb-420e-ab0c-959b8572ada5",
   "metadata": {},
   "outputs": [
    {
     "data": {
      "text/plain": [
       "<bound method Series.mode of 0        man\n",
       "1      woman\n",
       "2      woman\n",
       "3      woman\n",
       "4        man\n",
       "       ...  \n",
       "886      man\n",
       "887    woman\n",
       "888    woman\n",
       "889      man\n",
       "890      man\n",
       "Name: who, Length: 891, dtype: object>"
      ]
     },
     "execution_count": 73,
     "metadata": {},
     "output_type": "execute_result"
    }
   ],
   "source": [
    "df['who'].mode #가장 많이 등장한 데이터 출력"
   ]
  },
  {
   "cell_type": "code",
   "execution_count": 75,
   "id": "fdd963d7-32b5-4b62-94eb-90c168d8cf54",
   "metadata": {},
   "outputs": [
    {
     "data": {
      "text/plain": [
       "0    C\n",
       "Name: deck, dtype: category\n",
       "Categories (7, object): ['A', 'B', 'C', 'D', 'E', 'F', 'G']"
      ]
     },
     "execution_count": 75,
     "metadata": {},
     "output_type": "execute_result"
    }
   ],
   "source": [
    "df['deck'].mode()"
   ]
  },
  {
   "cell_type": "markdown",
   "id": "ffc07bdb-eba1-450c-bacd-f6ca8a772794",
   "metadata": {},
   "source": [
    "## corr()\n",
    "- 각 컬럼끼리의 상관관계를 -1 ~ 1로 표시"
   ]
  },
  {
   "cell_type": "code",
   "execution_count": 78,
   "id": "767096e7-9fc7-49fc-9dda-947f3bd891e9",
   "metadata": {},
   "outputs": [
    {
     "data": {
      "text/html": [
       "<div>\n",
       "<style scoped>\n",
       "    .dataframe tbody tr th:only-of-type {\n",
       "        vertical-align: middle;\n",
       "    }\n",
       "\n",
       "    .dataframe tbody tr th {\n",
       "        vertical-align: top;\n",
       "    }\n",
       "\n",
       "    .dataframe thead th {\n",
       "        text-align: right;\n",
       "    }\n",
       "</style>\n",
       "<table border=\"1\" class=\"dataframe\">\n",
       "  <thead>\n",
       "    <tr style=\"text-align: right;\">\n",
       "      <th></th>\n",
       "      <th>survived</th>\n",
       "      <th>pclass</th>\n",
       "      <th>age</th>\n",
       "      <th>sibsp</th>\n",
       "      <th>parch</th>\n",
       "      <th>fare</th>\n",
       "      <th>adult_male</th>\n",
       "      <th>alone</th>\n",
       "    </tr>\n",
       "  </thead>\n",
       "  <tbody>\n",
       "    <tr>\n",
       "      <th>survived</th>\n",
       "      <td>1.000000</td>\n",
       "      <td>-0.338481</td>\n",
       "      <td>-0.077221</td>\n",
       "      <td>-0.035322</td>\n",
       "      <td>0.081629</td>\n",
       "      <td>0.257307</td>\n",
       "      <td>-0.557080</td>\n",
       "      <td>-0.203367</td>\n",
       "    </tr>\n",
       "    <tr>\n",
       "      <th>pclass</th>\n",
       "      <td>-0.338481</td>\n",
       "      <td>1.000000</td>\n",
       "      <td>-0.369226</td>\n",
       "      <td>0.083081</td>\n",
       "      <td>0.018443</td>\n",
       "      <td>-0.549500</td>\n",
       "      <td>0.094035</td>\n",
       "      <td>0.135207</td>\n",
       "    </tr>\n",
       "    <tr>\n",
       "      <th>age</th>\n",
       "      <td>-0.077221</td>\n",
       "      <td>-0.369226</td>\n",
       "      <td>1.000000</td>\n",
       "      <td>-0.308247</td>\n",
       "      <td>-0.189119</td>\n",
       "      <td>0.096067</td>\n",
       "      <td>0.280328</td>\n",
       "      <td>0.198270</td>\n",
       "    </tr>\n",
       "    <tr>\n",
       "      <th>sibsp</th>\n",
       "      <td>-0.035322</td>\n",
       "      <td>0.083081</td>\n",
       "      <td>-0.308247</td>\n",
       "      <td>1.000000</td>\n",
       "      <td>0.414838</td>\n",
       "      <td>0.159651</td>\n",
       "      <td>-0.253586</td>\n",
       "      <td>-0.584471</td>\n",
       "    </tr>\n",
       "    <tr>\n",
       "      <th>parch</th>\n",
       "      <td>0.081629</td>\n",
       "      <td>0.018443</td>\n",
       "      <td>-0.189119</td>\n",
       "      <td>0.414838</td>\n",
       "      <td>1.000000</td>\n",
       "      <td>0.216225</td>\n",
       "      <td>-0.349943</td>\n",
       "      <td>-0.583398</td>\n",
       "    </tr>\n",
       "    <tr>\n",
       "      <th>fare</th>\n",
       "      <td>0.257307</td>\n",
       "      <td>-0.549500</td>\n",
       "      <td>0.096067</td>\n",
       "      <td>0.159651</td>\n",
       "      <td>0.216225</td>\n",
       "      <td>1.000000</td>\n",
       "      <td>-0.182024</td>\n",
       "      <td>-0.271832</td>\n",
       "    </tr>\n",
       "    <tr>\n",
       "      <th>adult_male</th>\n",
       "      <td>-0.557080</td>\n",
       "      <td>0.094035</td>\n",
       "      <td>0.280328</td>\n",
       "      <td>-0.253586</td>\n",
       "      <td>-0.349943</td>\n",
       "      <td>-0.182024</td>\n",
       "      <td>1.000000</td>\n",
       "      <td>0.404744</td>\n",
       "    </tr>\n",
       "    <tr>\n",
       "      <th>alone</th>\n",
       "      <td>-0.203367</td>\n",
       "      <td>0.135207</td>\n",
       "      <td>0.198270</td>\n",
       "      <td>-0.584471</td>\n",
       "      <td>-0.583398</td>\n",
       "      <td>-0.271832</td>\n",
       "      <td>0.404744</td>\n",
       "      <td>1.000000</td>\n",
       "    </tr>\n",
       "  </tbody>\n",
       "</table>\n",
       "</div>"
      ],
      "text/plain": [
       "            survived    pclass       age     sibsp     parch      fare  \\\n",
       "survived    1.000000 -0.338481 -0.077221 -0.035322  0.081629  0.257307   \n",
       "pclass     -0.338481  1.000000 -0.369226  0.083081  0.018443 -0.549500   \n",
       "age        -0.077221 -0.369226  1.000000 -0.308247 -0.189119  0.096067   \n",
       "sibsp      -0.035322  0.083081 -0.308247  1.000000  0.414838  0.159651   \n",
       "parch       0.081629  0.018443 -0.189119  0.414838  1.000000  0.216225   \n",
       "fare        0.257307 -0.549500  0.096067  0.159651  0.216225  1.000000   \n",
       "adult_male -0.557080  0.094035  0.280328 -0.253586 -0.349943 -0.182024   \n",
       "alone      -0.203367  0.135207  0.198270 -0.584471 -0.583398 -0.271832   \n",
       "\n",
       "            adult_male     alone  \n",
       "survived     -0.557080 -0.203367  \n",
       "pclass        0.094035  0.135207  \n",
       "age           0.280328  0.198270  \n",
       "sibsp        -0.253586 -0.584471  \n",
       "parch        -0.349943 -0.583398  \n",
       "fare         -0.182024 -0.271832  \n",
       "adult_male    1.000000  0.404744  \n",
       "alone         0.404744  1.000000  "
      ]
     },
     "execution_count": 78,
     "metadata": {},
     "output_type": "execute_result"
    }
   ],
   "source": [
    "df.corr(numeric_only=True)"
   ]
  },
  {
   "cell_type": "code",
   "execution_count": 79,
   "id": "671ea5bd-1bb6-4941-9d9b-e2561680ed7f",
   "metadata": {},
   "outputs": [
    {
     "data": {
      "text/plain": [
       "survived      1.000000\n",
       "pclass       -0.338481\n",
       "age          -0.077221\n",
       "sibsp        -0.035322\n",
       "parch         0.081629\n",
       "fare          0.257307\n",
       "adult_male   -0.557080\n",
       "alone        -0.203367\n",
       "Name: survived, dtype: float64"
      ]
     },
     "execution_count": 79,
     "metadata": {},
     "output_type": "execute_result"
    }
   ],
   "source": [
    "df.corr(numeric_only=True)['survived']"
   ]
  },
  {
   "cell_type": "code",
   "execution_count": null,
   "id": "b8002c7e-1481-4206-ae56-ce633ca7d4c1",
   "metadata": {},
   "outputs": [],
   "source": []
  },
  {
   "cell_type": "code",
   "execution_count": null,
   "id": "d79a8604-bc45-44d8-b4bf-eea4e069cf7b",
   "metadata": {},
   "outputs": [],
   "source": []
  },
  {
   "cell_type": "code",
   "execution_count": null,
   "id": "0219df45-64de-4e1f-80e0-a9ea5b44d10d",
   "metadata": {},
   "outputs": [],
   "source": []
  },
  {
   "cell_type": "code",
   "execution_count": null,
   "id": "dc29b855-ba26-4c1e-975e-deb5ea838386",
   "metadata": {},
   "outputs": [],
   "source": []
  },
  {
   "cell_type": "code",
   "execution_count": null,
   "id": "1e7c05e0-2226-4173-80b0-94a4067f7a9c",
   "metadata": {},
   "outputs": [],
   "source": []
  }
 ],
 "metadata": {
  "kernelspec": {
   "display_name": "Python 3 (ipykernel)",
   "language": "python",
   "name": "python3"
  },
  "language_info": {
   "codemirror_mode": {
    "name": "ipython",
    "version": 3
   },
   "file_extension": ".py",
   "mimetype": "text/x-python",
   "name": "python",
   "nbconvert_exporter": "python",
   "pygments_lexer": "ipython3",
   "version": "3.13.2"
  }
 },
 "nbformat": 4,
 "nbformat_minor": 5
}
