{
 "cells": [
  {
   "cell_type": "code",
   "execution_count": 2,
   "id": "1d5fae0e-c501-41c4-ade7-05aee7ff049a",
   "metadata": {},
   "outputs": [],
   "source": [
    "import numpy as np\n",
    "\n",
    "my_list = list(range(10000))\n",
    "my_array = np.arange(10000)"
   ]
  },
  {
   "cell_type": "code",
   "execution_count": 3,
   "id": "26a0b7d6-50a9-4451-8ed2-f8dc84c64ec4",
   "metadata": {},
   "outputs": [
    {
     "name": "stdout",
     "output_type": "stream",
     "text": [
      "326 μs ± 31.9 μs per loop (mean ± std. dev. of 7 runs, 1,000 loops each)\n",
      "6.62 μs ± 217 ns per loop (mean ± std. dev. of 7 runs, 100,000 loops each)\n"
     ]
    }
   ],
   "source": [
    "%timeit my_list2 = [i *2 for i in my_list]\n",
    "%timeit my_arry2 = my_array * 2"
   ]
  },
  {
   "cell_type": "code",
   "execution_count": 4,
   "id": "3109e98b-0e27-4187-aab7-fc14f9d089cd",
   "metadata": {},
   "outputs": [
    {
     "name": "stdout",
     "output_type": "stream",
     "text": [
      "[[   1.     1.2    3. ]\n",
      " [-123.   123.     0. ]]\n"
     ]
    }
   ],
   "source": [
    "a = [\n",
    "    [1, 1.2, 3],\n",
    "    [-123, 123, 0]\n",
    "]\n",
    "data = np.array(a)\n",
    "print(data)"
   ]
  },
  {
   "cell_type": "code",
   "execution_count": 5,
   "id": "0d3cee9c-2304-4231-8cb0-deb155d2ea54",
   "metadata": {},
   "outputs": [
    {
     "name": "stdout",
     "output_type": "stream",
     "text": [
      "[[   10.    12.    30.]\n",
      " [-1230.  1230.     0.]]\n",
      "[[   2.     2.4    6. ]\n",
      " [-246.   246.     0. ]]\n"
     ]
    }
   ],
   "source": [
    "print(data * 10)\n",
    "print(data + data)"
   ]
  },
  {
   "cell_type": "code",
   "execution_count": 6,
   "id": "0a626f37-335c-4446-b336-74450ed53271",
   "metadata": {},
   "outputs": [
    {
     "name": "stdout",
     "output_type": "stream",
     "text": [
      "(2, 3)\n",
      "float64\n"
     ]
    }
   ],
   "source": [
    "print(data.shape)\n",
    "print(data.dtype)"
   ]
  },
  {
   "cell_type": "code",
   "execution_count": 7,
   "id": "b688808f-a52a-45c9-8b3a-c4b9cb5354fb",
   "metadata": {},
   "outputs": [
    {
     "name": "stdout",
     "output_type": "stream",
     "text": [
      "[1 2 3 4 5]\n",
      "<class 'numpy.ndarray'>\n"
     ]
    }
   ],
   "source": [
    "data1= [1, 2, 3, 4, 5]\n",
    "arr1 = np.array(data1)\n",
    "print(arr1)\n",
    "print(type(arr1))"
   ]
  },
  {
   "cell_type": "code",
   "execution_count": 8,
   "id": "aa6a45b9-a634-49b1-bac7-82b7283418c4",
   "metadata": {},
   "outputs": [
    {
     "name": "stdout",
     "output_type": "stream",
     "text": [
      "[[1.1 2.2]\n",
      " [3.3 4.4]]\n",
      "<class 'numpy.ndarray'>\n"
     ]
    }
   ],
   "source": [
    "arr2 = np.array([[1.1, 2.2],[3.3, 4.4]])\n",
    "print(arr2)\n",
    "print(type(arr2))"
   ]
  },
  {
   "cell_type": "code",
   "execution_count": 9,
   "id": "9570894b-eff5-4507-bbab-8725837f8e6b",
   "metadata": {},
   "outputs": [
    {
     "name": "stdout",
     "output_type": "stream",
     "text": [
      "1\n",
      "2\n"
     ]
    }
   ],
   "source": [
    "print(arr1.ndim)\n",
    "print(arr2.ndim)"
   ]
  },
  {
   "cell_type": "code",
   "execution_count": 11,
   "id": "b305b4a3-f229-492c-b3a4-a3f59cc26c79",
   "metadata": {},
   "outputs": [
    {
     "name": "stdout",
     "output_type": "stream",
     "text": [
      "[0. 0. 0. 0. 0. 0. 0. 0. 0. 0.]\n",
      "[0, 0, 0, 0, 0, 0, 0, 0, 0, 0]\n",
      "[[0. 0. 0. 0. 0.]\n",
      " [0. 0. 0. 0. 0.]\n",
      " [0. 0. 0. 0. 0.]\n",
      " [0. 0. 0. 0. 0.]\n",
      " [0. 0. 0. 0. 0.]]\n",
      "[[[0. 0.]\n",
      "  [0. 0.]]\n",
      "\n",
      " [[0. 0.]\n",
      "  [0. 0.]]]\n"
     ]
    }
   ],
   "source": [
    "print(np.zeros(10))\n",
    "print([0] * 10)\n",
    "print(np.zeros((5, 5)))\n",
    "print(np.empty((2, 2, 2)))"
   ]
  },
  {
   "cell_type": "code",
   "execution_count": 13,
   "id": "c99669d2-8681-4729-b893-396fa780be97",
   "metadata": {},
   "outputs": [
    {
     "name": "stdout",
     "output_type": "stream",
     "text": [
      "[0 1 2 3 4 5 6 7 8 9]\n"
     ]
    }
   ],
   "source": [
    "print(np.arange(10))"
   ]
  },
  {
   "cell_type": "code",
   "execution_count": 14,
   "id": "0be2b6b3-7519-4ebd-ae4d-8cf92bae0dff",
   "metadata": {},
   "outputs": [
    {
     "name": "stdout",
     "output_type": "stream",
     "text": [
      "float64\n",
      "int32\n"
     ]
    }
   ],
   "source": [
    "arr1 = np.array([1, 2, 3], dtype=np.float64)\n",
    "arr2 = np.array([1, 2, 3], dtype=np.int32)\n",
    "\n",
    "print(arr1.dtype)\n",
    "print(arr2.dtype)"
   ]
  },
  {
   "cell_type": "code",
   "execution_count": 15,
   "id": "491bc740-cfda-49a2-979a-a7678576478c",
   "metadata": {},
   "outputs": [
    {
     "name": "stdout",
     "output_type": "stream",
     "text": [
      "int64\n",
      "[1. 2. 3.]\n",
      "float64\n"
     ]
    }
   ],
   "source": [
    "arr1 = np.array([1, 2, 3])\n",
    "print(arr1.dtype)\n",
    "float_arr1 = arr1.astype(np.float64)\n",
    "print(float_arr1)\n",
    "print(float_arr1.dtype)"
   ]
  },
  {
   "cell_type": "code",
   "execution_count": 16,
   "id": "1947395d-b289-4878-baf2-b2ed45c5f33e",
   "metadata": {},
   "outputs": [
    {
     "name": "stdout",
     "output_type": "stream",
     "text": [
      "float64\n",
      "[1 2 3 9]\n",
      "int64\n"
     ]
    }
   ],
   "source": [
    "arr2 = np.array([1.1, 2.2, 3.3, 9.9])\n",
    "print(arr2.dtype)\n",
    "int_arr2 = arr2.astype(np.int64)\n",
    "print(int_arr2)\n",
    "print(int_arr2.dtype)"
   ]
  },
  {
   "cell_type": "code",
   "execution_count": 19,
   "id": "91f902e0-668b-4711-917a-f8f4ee457de0",
   "metadata": {},
   "outputs": [
    {
     "name": "stdout",
     "output_type": "stream",
     "text": [
      "[[1 2 3]\n",
      " [4 5 6]]\n",
      "[[ 1  4  9]\n",
      " [16 25 36]]\n",
      "[[ 2  4  6]\n",
      " [ 8 10 12]]\n",
      "[[1.         0.5        0.33333333]\n",
      " [0.25       0.2        0.16666667]]\n",
      "[[  1   8  27]\n",
      " [ 64 125 216]]\n"
     ]
    }
   ],
   "source": [
    "arr = np.array([[1, 2, 3], [4, 5, 6]])\n",
    "print(arr)\n",
    "print(arr * arr)\n",
    "print(arr + arr)\n",
    "print(1 / arr)\n",
    "print(arr ** 3)"
   ]
  },
  {
   "cell_type": "code",
   "execution_count": 22,
   "id": "6302a1a6-c69a-4b8a-82e7-b0d01d23c291",
   "metadata": {},
   "outputs": [
    {
     "name": "stdout",
     "output_type": "stream",
     "text": [
      "[[1 2 3]\n",
      " [4 5 6]]\n",
      "[[3 2 1]\n",
      " [1 2 3]]\n",
      "[[False False  True]\n",
      " [ True  True  True]]\n",
      "[[ True False False]\n",
      " [False False  True]]\n"
     ]
    }
   ],
   "source": [
    "arr2 = np.array([[3, 2, 1], [1, 2, 3]])\n",
    "print(arr)\n",
    "print(arr2)\n",
    "print(arr > arr2)\n",
    "print(arr2 == 3)"
   ]
  },
  {
   "cell_type": "code",
   "execution_count": 25,
   "id": "2c86312d-307b-4e78-8d29-0e9b5e74890e",
   "metadata": {},
   "outputs": [
    {
     "name": "stdout",
     "output_type": "stream",
     "text": [
      "[0 1 2 3 4 5 6 7 8 9]\n"
     ]
    }
   ],
   "source": [
    "arr = np.arange(10)\n",
    "print(arr)"
   ]
  },
  {
   "cell_type": "code",
   "execution_count": 26,
   "id": "89df2b93-89cb-4709-813f-1255cff084cb",
   "metadata": {},
   "outputs": [
    {
     "name": "stdout",
     "output_type": "stream",
     "text": [
      "7\n",
      "[2 3 4]\n"
     ]
    }
   ],
   "source": [
    "print(arr[7])\n",
    "print(arr[2:5])"
   ]
  },
  {
   "cell_type": "code",
   "execution_count": 27,
   "id": "b288cd0f-b9b5-43dc-a71b-653053275ca5",
   "metadata": {},
   "outputs": [
    {
     "name": "stdout",
     "output_type": "stream",
     "text": [
      "[1, 2, 3, 4, 5]\n"
     ]
    }
   ],
   "source": [
    "py_list = [1, 2, 3, 4, 5]\n",
    "py_list[2:3].pop()\n",
    "print(py_list)"
   ]
  },
  {
   "cell_type": "code",
   "execution_count": 29,
   "id": "87d4a0f9-1cfc-4bd9-9adb-1c071a2f5d38",
   "metadata": {},
   "outputs": [
    {
     "name": "stdout",
     "output_type": "stream",
     "text": [
      "[[1 2 3]\n",
      " [4 5 6]]\n"
     ]
    }
   ],
   "source": [
    "arr = np.array([[1, 2, 3], [4, 5, 6]])\n",
    "print(arr)"
   ]
  },
  {
   "cell_type": "code",
   "execution_count": 35,
   "id": "1deab22f-5eb7-492c-a9c4-460448502875",
   "metadata": {},
   "outputs": [
    {
     "name": "stdout",
     "output_type": "stream",
     "text": [
      "6\n",
      "5\n"
     ]
    }
   ],
   "source": [
    "print(arr[1][2])\n",
    "print(arr[1, 1])"
   ]
  },
  {
   "cell_type": "code",
   "execution_count": 41,
   "id": "a87b6c3f-45e0-4cb0-9930-a506859658d1",
   "metadata": {},
   "outputs": [],
   "source": [
    "names = np.array(['hong', 'kim', 'hong', 'kim'])\n",
    "data = np.array([['math', 60], ['math', 90], ['eng', 70], ['eng', 50]])"
   ]
  },
  {
   "cell_type": "code",
   "execution_count": 42,
   "id": "72a1b2d9-2051-4910-8f4f-f6fbe16cd480",
   "metadata": {},
   "outputs": [
    {
     "data": {
      "text/plain": [
       "array([ True, False,  True, False])"
      ]
     },
     "execution_count": 42,
     "metadata": {},
     "output_type": "execute_result"
    }
   ],
   "source": [
    "names == 'hong'"
   ]
  },
  {
   "cell_type": "code",
   "execution_count": 43,
   "id": "4493e8ef-9794-4a0d-bf25-1056d58abeed",
   "metadata": {},
   "outputs": [
    {
     "data": {
      "text/plain": [
       "array([['math', '60'],\n",
       "       ['eng', '70']], dtype='<U21')"
      ]
     },
     "execution_count": 43,
     "metadata": {},
     "output_type": "execute_result"
    }
   ],
   "source": [
    "data[names == 'hong']"
   ]
  },
  {
   "cell_type": "code",
   "execution_count": 45,
   "id": "1fa170f1-0250-40ec-bf20-09f27665b600",
   "metadata": {},
   "outputs": [
    {
     "name": "stdout",
     "output_type": "stream",
     "text": [
      "['60' '70']\n",
      "[['math']\n",
      " ['eng']]\n"
     ]
    }
   ],
   "source": [
    "print(data[names == 'hong', 1])\n",
    "print(data[names == 'hong', :1])"
   ]
  },
  {
   "cell_type": "code",
   "execution_count": 46,
   "id": "26a747ef-443f-4341-b811-0236608d3045",
   "metadata": {},
   "outputs": [
    {
     "name": "stdout",
     "output_type": "stream",
     "text": [
      "[False  True False  True]\n",
      "[False  True False  True]\n"
     ]
    }
   ],
   "source": [
    "print(names != 'hong')\n",
    "print(~(names == 'hong'))"
   ]
  },
  {
   "cell_type": "code",
   "execution_count": 49,
   "id": "1273ec07-a4ea-4389-a48e-8de1673257a6",
   "metadata": {},
   "outputs": [
    {
     "name": "stdout",
     "output_type": "stream",
     "text": [
      "[[0. 0. 0. 0.]\n",
      " [1. 1. 1. 1.]\n",
      " [2. 2. 2. 2.]\n",
      " [3. 3. 3. 3.]\n",
      " [4. 4. 4. 4.]\n",
      " [5. 5. 5. 5.]\n",
      " [6. 6. 6. 6.]\n",
      " [7. 7. 7. 7.]]\n"
     ]
    }
   ],
   "source": [
    "arr = np.zeros((8, 4))\n",
    "for i in range(8):\n",
    "    arr[i] = i\n",
    "print(arr)"
   ]
  },
  {
   "cell_type": "code",
   "execution_count": 50,
   "id": "fc9a2ddc-265a-4158-9b86-f2cd70ce8e69",
   "metadata": {},
   "outputs": [
    {
     "data": {
      "text/plain": [
       "array([[4., 4., 4., 4.],\n",
       "       [3., 3., 3., 3.],\n",
       "       [0., 0., 0., 0.],\n",
       "       [5., 5., 5., 5.]])"
      ]
     },
     "execution_count": 50,
     "metadata": {},
     "output_type": "execute_result"
    }
   ],
   "source": [
    "arr[[4, 3, 0, 5]]"
   ]
  },
  {
   "cell_type": "code",
   "execution_count": 54,
   "id": "32f65350-265a-4da5-b53d-779e6f0841ab",
   "metadata": {},
   "outputs": [
    {
     "data": {
      "text/plain": [
       "array([[5., 5., 5., 5.],\n",
       "       [3., 3., 3., 3.],\n",
       "       [7., 7., 7., 7.]])"
      ]
     },
     "execution_count": 54,
     "metadata": {},
     "output_type": "execute_result"
    }
   ],
   "source": [
    "arr[[-3, -5, -1]]"
   ]
  },
  {
   "cell_type": "code",
   "execution_count": 55,
   "id": "7fa8d5d6-d402-44fd-9137-aea6a41b5a99",
   "metadata": {},
   "outputs": [
    {
     "name": "stdout",
     "output_type": "stream",
     "text": [
      "[[ 0  1  2  3]\n",
      " [ 4  5  6  7]\n",
      " [ 8  9 10 11]\n",
      " [12 13 14 15]\n",
      " [16 17 18 19]\n",
      " [20 21 22 23]\n",
      " [24 25 26 27]\n",
      " [28 29 30 31]]\n"
     ]
    }
   ],
   "source": [
    "arr = np.arange(32).reshape(8, 4)\n",
    "print(arr)"
   ]
  },
  {
   "cell_type": "code",
   "execution_count": 58,
   "id": "4b54370a-8537-4926-8cb9-806a096b169a",
   "metadata": {},
   "outputs": [
    {
     "data": {
      "text/plain": [
       "array([ 6, 15])"
      ]
     },
     "execution_count": 58,
     "metadata": {},
     "output_type": "execute_result"
    }
   ],
   "source": [
    "arr[[1, 3], [2, 3]]"
   ]
  },
  {
   "cell_type": "code",
   "execution_count": 59,
   "id": "0c71f7a0-07b9-4a89-8e6a-e3d801c9cb39",
   "metadata": {},
   "outputs": [
    {
     "name": "stdout",
     "output_type": "stream",
     "text": [
      "[[ 0  1  2  3  4]\n",
      " [ 5  6  7  8  9]\n",
      " [10 11 12 13 14]]\n"
     ]
    }
   ],
   "source": [
    "arr = np.arange(15).reshape(3, 5)\n",
    "print(arr)"
   ]
  },
  {
   "cell_type": "code",
   "execution_count": null,
   "id": "3f828fa2-e602-4d67-b10f-41367b3e25c8",
   "metadata": {},
   "outputs": [],
   "source": []
  },
  {
   "cell_type": "code",
   "execution_count": null,
   "id": "6ec73f51-3044-4f21-84e8-698fbbfd7256",
   "metadata": {},
   "outputs": [],
   "source": []
  },
  {
   "cell_type": "code",
   "execution_count": null,
   "id": "65461926-5f03-4986-8fdb-314d46fc7aa1",
   "metadata": {},
   "outputs": [],
   "source": []
  },
  {
   "cell_type": "code",
   "execution_count": null,
   "id": "aed63beb-1c57-48b6-9e58-7860a0a9bab8",
   "metadata": {},
   "outputs": [],
   "source": []
  }
 ],
 "metadata": {
  "kernelspec": {
   "display_name": "Python 3 (ipykernel)",
   "language": "python",
   "name": "python3"
  },
  "language_info": {
   "codemirror_mode": {
    "name": "ipython",
    "version": 3
   },
   "file_extension": ".py",
   "mimetype": "text/x-python",
   "name": "python",
   "nbconvert_exporter": "python",
   "pygments_lexer": "ipython3",
   "version": "3.13.2"
  }
 },
 "nbformat": 4,
 "nbformat_minor": 5
}
